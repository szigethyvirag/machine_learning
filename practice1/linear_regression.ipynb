{
 "metadata": {
  "kernelspec": {
   "language": "python",
   "display_name": "Python 3",
   "name": "python3"
  },
  "language_info": {
   "pygments_lexer": "ipython3",
   "nbconvert_exporter": "python",
   "version": "3.6.4",
   "file_extension": ".py",
   "codemirror_mode": {
    "name": "ipython",
    "version": 3
   },
   "name": "python",
   "mimetype": "text/x-python"
  }
 },
 "nbformat_minor": 4,
 "nbformat": 4,
 "cells": [
  {
   "cell_type": "code",
   "source": [
    "\n",
    "\n",
    "import numpy as np # linear algebra\n",
    "import pandas as pd # data processing, CSV file I/O (e.g. pd.read_csv)\n",
    "from sklearn.metrics import mean_absolute_error as mae # to mean absolute error\n",
    "\n",
    "data=pd.read_csv('C:/Users/szivi4/Downloads/practice-01/data/heart_disease.csv')\n",
    "label=data.values[:,0] #Y -> output vector\n",
    "data=data.values[:,1:] #X -> input matrix\n"
   ],
   "metadata": {
    "_cell_guid": "b1076dfc-b9ad-4769-8c92-a6c4dae69d19",
    "_uuid": "8f2839f25d086af736a60e9eeb907d3b93b6e0e5",
    "execution": {
     "iopub.execute_input": "2022-02-13T16:36:05.434125Z",
     "iopub.status.busy": "2022-02-13T16:36:05.433657Z",
     "iopub.status.idle": "2022-02-13T16:36:05.451029Z",
     "shell.execute_reply": "2022-02-13T16:36:05.450299Z",
     "shell.execute_reply.started": "2022-02-13T16:36:05.434082Z"
    },
    "trusted": true
   },
   "execution_count": 1,
   "outputs": []
  },
  {
   "cell_type": "code",
   "source": [
    "class LinearRegression():\n",
    "    def __init__(self):\n",
    "        self.w_hat = None\n",
    "        self.bias = None\n",
    "    def fit(self,data,labels):\n",
    "        ones = np.ones(label.shape)\n",
    "        data = np.hstack((data,np.atleast_2d(ones).T))\n",
    "        data_inv = np.linalg.pinv(data)\n",
    "        self.w_hat = data_inv @ label\n",
    "        #separate the bias:\n",
    "        self.bias = self.w_hat[-1]\n",
    "        self.w_hat = self.w_hat[:-1]\n",
    "\n",
    "    def predict(self,data):\n",
    "        return data @ self.w_hat + self.bias\n",
    "\n",
    "    def mean_squared_error(self,true,prediction):\n",
    "        difference_array = np.subtract(true, prediction)\n",
    "        squared_array = np.square(difference_array)\n",
    "        return squared_array.mean()\n",
    "\n",
    "    def mean_absolute_percentage_error(self,true,prediction):\n",
    "        return np.mean(np.abs((true - prediction)/true))*100\n",
    "\n",
    "    def mean_absolute_error(self,true,prediction):\n",
    "        return mae(true,prediction)\n",
    "    "
   ],
   "metadata": {
    "execution": {
     "iopub.execute_input": "2022-02-13T16:20:43.700799Z",
     "iopub.status.busy": "2022-02-13T16:20:43.700527Z",
     "iopub.status.idle": "2022-02-13T16:20:43.710493Z",
     "shell.execute_reply": "2022-02-13T16:20:43.709596Z",
     "shell.execute_reply.started": "2022-02-13T16:20:43.700771Z"
    },
    "trusted": true
   },
   "execution_count": 2,
   "outputs": []
  },
  {
   "cell_type": "code",
   "source": [
    "linreg=LinearRegression()\n",
    "linreg.fit(data,label)\n",
    "prediction=linreg.predict(data)\n",
    "print(linreg.mean_squared_error(label,prediction))\n",
    "print(linreg.mean_absolute_percentage_error(label,prediction))\n",
    "print(linreg.mean_absolute_error(label,prediction))"
   ],
   "metadata": {
    "execution": {
     "iopub.execute_input": "2022-02-13T16:36:39.200079Z",
     "iopub.status.busy": "2022-02-13T16:36:39.199768Z",
     "iopub.status.idle": "2022-02-13T16:36:39.210519Z",
     "shell.execute_reply": "2022-02-13T16:36:39.209040Z",
     "shell.execute_reply.started": "2022-02-13T16:36:39.200047Z"
    },
    "trusted": true
   },
   "execution_count": 3,
   "outputs": [
    {
     "name": "stdout",
     "output_type": "stream",
     "text": [
      "54.28934333697848\n",
      "11.611955182207781\n",
      "6.0068457302475835\n"
     ]
    }
   ]
  },
  {
   "cell_type": "code",
   "source": "",
   "metadata": {},
   "execution_count": null,
   "outputs": []
  }
 ]
}